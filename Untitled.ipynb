{
 "cells": [
  {
   "cell_type": "code",
   "execution_count": 1,
   "id": "15111058-dd96-45d6-bbba-932dcba39dc0",
   "metadata": {},
   "outputs": [],
   "source": [
    "from datetime import datetime\n",
    "import time\n",
    "\n",
    "from bs4 import BeautifulSoup\n",
    "import numpy as np\n",
    "import pandas as pd\n",
    "import requests\n",
    "from selenium.common.exceptions import NoSuchElementException, ElementClickInterceptedException, UnexpectedAlertPresentException  \n",
    "from selenium import webdriver\n",
    "from selenium.webdriver.common.by import By\n",
    "from selenium.webdriver.common.desired_capabilities import DesiredCapabilities\n",
    "from selenium.webdriver.common.keys import Keys\n",
    "from tqdm.notebook import tqdm\n",
    "import undetected_chromedriver as uc"
   ]
  },
  {
   "cell_type": "code",
   "execution_count": 21,
   "id": "59ff5066-4798-4edb-a653-6040195efcdb",
   "metadata": {},
   "outputs": [],
   "source": [
    "def get_current_match_teams(input_driver, input_match_list, input_url):\n",
    "    print(input_url)\n",
    "    window_before = input_driver.window_handles[0]\n",
    "    team_urls = []\n",
    "    print(len(input_match_list), \"matches\")\n",
    "    for n in tqdm(range(len(input_match_list))):\n",
    "        input_driver.get(input_url)\n",
    "        while True:\n",
    "            print(\"attempting to get today's matches\")\n",
    "            try:\n",
    "                time.sleep(2)\n",
    "                todays_matches = input_driver.find_element(By.CSS_SELECTOR, 'section[class=\"event event--live event--summary\"]').find_element(By.CSS_SELECTOR, 'div[class=\"sportName soccer\"]').find_elements(By.CSS_SELECTOR, 'div[title=\"Click for match detail!\"]')\n",
    "                if len(todays_matches) == len(input_match_list):\n",
    "                    break\n",
    "            except UnexpectedAlertPresentException:\n",
    "                print(\"UnexpectedAlertPresentException\")\n",
    "                time.sleep(2)\n",
    "                todays_matches = input_driver.find_element(By.CSS_SELECTOR, 'section[class=\"event event--live event--summary\"]').find_element(By.CSS_SELECTOR, 'div[class=\"sportName soccer\"]').find_elements(By.CSS_SELECTOR, 'div[title=\"Click for match detail!\"]')\n",
    "                if len(todays_matches) == len(input_match_list):\n",
    "                    break\n",
    "        current_match = todays_matches[n]\n",
    "        try:\n",
    "            current_match.click()\n",
    "        except ElementClickInterceptedException:\n",
    "            input_driver.find_element(By.CSS_SELECTOR, 'button[id=\"onetrust-reject-all-handler\"]').click()   \n",
    "            current_match.click()            \n",
    "        new_window = driver.window_handles[1]\n",
    "        input_driver.switch_to.window(new_window)\n",
    "        time.sleep(2)\n",
    "        url_elements = driver.find_elements(By.CSS_SELECTOR, 'div[class=\"participant__participantImage\"]')\n",
    "        urls = [ele.get_attribute(\"innerHTML\") for ele in url_elements]\n",
    "        team_urls.extend(urls)\n",
    "        # input_driver.switch_to.window(window_before)\n",
    "        input_driver.close()\n",
    "        input_driver.switch_to.window(window_before)\n",
    "    return team_urls, input_driver\n",
    "\n",
    "def get_team_history(input_driver, input_url):\n",
    "    input_driver.get(input_url)\n",
    "    time.sleep(2)\n",
    "    results = input_driver.find_element(By.CSS_SELECTOR, 'div[class=\"sportName soccer\"]').find_elements(By.CSS_SELECTOR, 'div[title=\"Click for match detail!\"]')\n",
    "    url = driver.current_url\n",
    "    previous_results = [BeautifulSoup(result.get_attribute(\"innerHTML\"), \"html.parser\") for result in results]\n",
    "    parsed_results = [\n",
    "        {\n",
    "            \"url\": url,\n",
    "            \"type\": \"team_previous_result\",\n",
    "            \"timestamp\": x.find(\"div\", attrs={\"class\": \"event__time\"}).text.strip() if x.find(\"div\", attrs={\"class\": \"event__time\"}) is not None else x.find(\"div\", attrs={\"class\": \"event__stage\"}).text.strip(),\n",
    "            \"home\": x.find(\"div\", attrs={\"class\": \"event__participant--home\"}).text.strip(),\n",
    "            \"away\": x.find(\"div\", attrs={\"class\": \"event__participant--away\"}).text.strip(),\n",
    "            \"home_score\": x.find(\"div\", attrs={\"class\": \"event__score--home\"}).text.strip(),\n",
    "            \"away_score\": x.find(\"div\", attrs={\"class\": \"event__score--away\"}).text.strip(),\n",
    "            \"scrape_timestmap\": datetime.now()\n",
    "        } for x in previous_results\n",
    "    ]\n",
    "    return parsed_results, input_driver"
   ]
  },
  {
   "cell_type": "code",
   "execution_count": 22,
   "id": "7abafe84-d1d9-46b2-a361-eb813e5debcf",
   "metadata": {},
   "outputs": [
    {
     "data": {
      "application/vnd.jupyter.widget-view+json": {
       "model_id": "8a116b379b65418ba2f60392c35f70fc",
       "version_major": 2,
       "version_minor": 0
      },
      "text/plain": [
       "  0%|          | 0/35 [00:00<?, ?it/s]"
      ]
     },
     "metadata": {},
     "output_type": "display_data"
    },
    {
     "name": "stdout",
     "output_type": "stream",
     "text": [
      "https://www.soccer24.com/argentina/liga-profesional/\n",
      "3 matches\n"
     ]
    },
    {
     "data": {
      "application/vnd.jupyter.widget-view+json": {
       "model_id": "7ce1790916c342f69282caf982804228",
       "version_major": 2,
       "version_minor": 0
      },
      "text/plain": [
       "  0%|          | 0/3 [00:00<?, ?it/s]"
      ]
     },
     "metadata": {},
     "output_type": "display_data"
    },
    {
     "name": "stdout",
     "output_type": "stream",
     "text": [
      "attempting to get today's matches\n",
      "attempting to get today's matches\n",
      "UnexpectedAlertPresentException\n",
      "attempting to get today's matches\n",
      "UnexpectedAlertPresentException\n",
      "https://www.soccer24.com/belarus/vysshaya-liga-women/\n",
      "2 matches\n"
     ]
    },
    {
     "data": {
      "application/vnd.jupyter.widget-view+json": {
       "model_id": "727c2ae266464ca8b0c7efaaa2a628f6",
       "version_major": 2,
       "version_minor": 0
      },
      "text/plain": [
       "  0%|          | 0/2 [00:00<?, ?it/s]"
      ]
     },
     "metadata": {},
     "output_type": "display_data"
    },
    {
     "name": "stdout",
     "output_type": "stream",
     "text": [
      "attempting to get today's matches\n",
      "attempting to get today's matches\n",
      "UnexpectedAlertPresentException\n",
      "https://www.soccer24.com/brazil/serie-a/\n",
      "7 matches\n"
     ]
    },
    {
     "data": {
      "application/vnd.jupyter.widget-view+json": {
       "model_id": "3c179abbe5764337aec8ab13c96304d3",
       "version_major": 2,
       "version_minor": 0
      },
      "text/plain": [
       "  0%|          | 0/7 [00:00<?, ?it/s]"
      ]
     },
     "metadata": {},
     "output_type": "display_data"
    },
    {
     "name": "stdout",
     "output_type": "stream",
     "text": [
      "attempting to get today's matches\n",
      "attempting to get today's matches\n",
      "UnexpectedAlertPresentException\n",
      "attempting to get today's matches\n",
      "UnexpectedAlertPresentException\n",
      "attempting to get today's matches\n",
      "UnexpectedAlertPresentException\n",
      "attempting to get today's matches\n",
      "UnexpectedAlertPresentException\n",
      "attempting to get today's matches\n",
      "UnexpectedAlertPresentException\n",
      "attempting to get today's matches\n",
      "UnexpectedAlertPresentException\n",
      "https://www.soccer24.com/brazil/serie-b/\n",
      "1 matches\n"
     ]
    },
    {
     "data": {
      "application/vnd.jupyter.widget-view+json": {
       "model_id": "35a3b589e08147048cee0e8a517d0375",
       "version_major": 2,
       "version_minor": 0
      },
      "text/plain": [
       "  0%|          | 0/1 [00:00<?, ?it/s]"
      ]
     },
     "metadata": {},
     "output_type": "display_data"
    },
    {
     "name": "stdout",
     "output_type": "stream",
     "text": [
      "attempting to get today's matches\n",
      "https://www.soccer24.com/brazil/campeonato-carioca-2/\n",
      "1 matches\n"
     ]
    },
    {
     "data": {
      "application/vnd.jupyter.widget-view+json": {
       "model_id": "49ee9bb5ac3c413887a8f73ea61586d8",
       "version_major": 2,
       "version_minor": 0
      },
      "text/plain": [
       "  0%|          | 0/1 [00:00<?, ?it/s]"
      ]
     },
     "metadata": {},
     "output_type": "display_data"
    },
    {
     "name": "stdout",
     "output_type": "stream",
     "text": [
      "attempting to get today's matches\n",
      "https://www.soccer24.com/canada/canadian-premier-league/\n",
      "1 matches\n"
     ]
    },
    {
     "data": {
      "application/vnd.jupyter.widget-view+json": {
       "model_id": "d0ddd18e04804677a43772d580263b42",
       "version_major": 2,
       "version_minor": 0
      },
      "text/plain": [
       "  0%|          | 0/1 [00:00<?, ?it/s]"
      ]
     },
     "metadata": {},
     "output_type": "display_data"
    },
    {
     "name": "stdout",
     "output_type": "stream",
     "text": [
      "attempting to get today's matches\n",
      "https://www.soccer24.com/chile/chilean-cup/\n",
      "1 matches\n"
     ]
    },
    {
     "data": {
      "application/vnd.jupyter.widget-view+json": {
       "model_id": "e19d3efcce6c4a8d93d80e8b671dae89",
       "version_major": 2,
       "version_minor": 0
      },
      "text/plain": [
       "  0%|          | 0/1 [00:00<?, ?it/s]"
      ]
     },
     "metadata": {},
     "output_type": "display_data"
    },
    {
     "name": "stdout",
     "output_type": "stream",
     "text": [
      "attempting to get today's matches\n",
      "https://www.soccer24.com/china/super-league/\n",
      "4 matches\n"
     ]
    },
    {
     "data": {
      "application/vnd.jupyter.widget-view+json": {
       "model_id": "727ed1a482564ef28ca06f24adfd8cc9",
       "version_major": 2,
       "version_minor": 0
      },
      "text/plain": [
       "  0%|          | 0/4 [00:00<?, ?it/s]"
      ]
     },
     "metadata": {},
     "output_type": "display_data"
    },
    {
     "name": "stdout",
     "output_type": "stream",
     "text": [
      "attempting to get today's matches\n",
      "attempting to get today's matches\n",
      "UnexpectedAlertPresentException\n",
      "attempting to get today's matches\n",
      "UnexpectedAlertPresentException\n",
      "attempting to get today's matches\n",
      "UnexpectedAlertPresentException\n",
      "https://www.soccer24.com/china/jia-league/\n",
      "3 matches\n"
     ]
    },
    {
     "data": {
      "application/vnd.jupyter.widget-view+json": {
       "model_id": "d6f19732d30c4b238348b19bc17bc2c5",
       "version_major": 2,
       "version_minor": 0
      },
      "text/plain": [
       "  0%|          | 0/3 [00:00<?, ?it/s]"
      ]
     },
     "metadata": {},
     "output_type": "display_data"
    },
    {
     "name": "stdout",
     "output_type": "stream",
     "text": [
      "attempting to get today's matches\n",
      "attempting to get today's matches\n",
      "UnexpectedAlertPresentException\n",
      "attempting to get today's matches\n",
      "UnexpectedAlertPresentException\n",
      "https://www.soccer24.com/colombia/primera-a/\n",
      "2 matches\n"
     ]
    },
    {
     "data": {
      "application/vnd.jupyter.widget-view+json": {
       "model_id": "aafd6a0e9add4b82844e7d0702dd5410",
       "version_major": 2,
       "version_minor": 0
      },
      "text/plain": [
       "  0%|          | 0/2 [00:00<?, ?it/s]"
      ]
     },
     "metadata": {},
     "output_type": "display_data"
    },
    {
     "name": "stdout",
     "output_type": "stream",
     "text": [
      "attempting to get today's matches\n",
      "attempting to get today's matches\n",
      "UnexpectedAlertPresentException\n",
      "https://www.soccer24.com/curacao/prome-divishon/\n",
      "1 matches\n"
     ]
    },
    {
     "data": {
      "application/vnd.jupyter.widget-view+json": {
       "model_id": "8194edf14c144d43934ef7def6208313",
       "version_major": 2,
       "version_minor": 0
      },
      "text/plain": [
       "  0%|          | 0/1 [00:00<?, ?it/s]"
      ]
     },
     "metadata": {},
     "output_type": "display_data"
    },
    {
     "name": "stdout",
     "output_type": "stream",
     "text": [
      "attempting to get today's matches\n",
      "https://www.soccer24.com/czech-republic/prazsky-prebor/\n",
      "1 matches\n"
     ]
    },
    {
     "data": {
      "application/vnd.jupyter.widget-view+json": {
       "model_id": "63b005a573d2435e849609b284254070",
       "version_major": 2,
       "version_minor": 0
      },
      "text/plain": [
       "  0%|          | 0/1 [00:00<?, ?it/s]"
      ]
     },
     "metadata": {},
     "output_type": "display_data"
    },
    {
     "name": "stdout",
     "output_type": "stream",
     "text": [
      "attempting to get today's matches\n",
      "https://www.soccer24.com/dr-congo/ligue-1/\n",
      "1 matches\n"
     ]
    },
    {
     "data": {
      "application/vnd.jupyter.widget-view+json": {
       "model_id": "46db473de49941c9868f0cd0dd201355",
       "version_major": 2,
       "version_minor": 0
      },
      "text/plain": [
       "  0%|          | 0/1 [00:00<?, ?it/s]"
      ]
     },
     "metadata": {},
     "output_type": "display_data"
    },
    {
     "name": "stdout",
     "output_type": "stream",
     "text": [
      "attempting to get today's matches\n",
      "https://www.soccer24.com/ecuador/serie-b/\n",
      "3 matches\n"
     ]
    },
    {
     "data": {
      "application/vnd.jupyter.widget-view+json": {
       "model_id": "2fe3a468166c46bdb17ff5495ac14f9b",
       "version_major": 2,
       "version_minor": 0
      },
      "text/plain": [
       "  0%|          | 0/3 [00:00<?, ?it/s]"
      ]
     },
     "metadata": {},
     "output_type": "display_data"
    },
    {
     "name": "stdout",
     "output_type": "stream",
     "text": [
      "attempting to get today's matches\n",
      "attempting to get today's matches\n",
      "UnexpectedAlertPresentException\n",
      "attempting to get today's matches\n",
      "UnexpectedAlertPresentException\n",
      "https://www.soccer24.com/estonia/meistriliiga/\n",
      "1 matches\n"
     ]
    },
    {
     "data": {
      "application/vnd.jupyter.widget-view+json": {
       "model_id": "f1b49d34925c4820ad24e2167631596d",
       "version_major": 2,
       "version_minor": 0
      },
      "text/plain": [
       "  0%|          | 0/1 [00:00<?, ?it/s]"
      ]
     },
     "metadata": {},
     "output_type": "display_data"
    },
    {
     "name": "stdout",
     "output_type": "stream",
     "text": [
      "attempting to get today's matches\n",
      "https://www.soccer24.com/ethiopia/premier-league/\n",
      "2 matches\n"
     ]
    },
    {
     "data": {
      "application/vnd.jupyter.widget-view+json": {
       "model_id": "17368b27a01d4e7bb780b7b21e708d67",
       "version_major": 2,
       "version_minor": 0
      },
      "text/plain": [
       "  0%|          | 0/2 [00:00<?, ?it/s]"
      ]
     },
     "metadata": {},
     "output_type": "display_data"
    },
    {
     "name": "stdout",
     "output_type": "stream",
     "text": [
      "attempting to get today's matches\n",
      "attempting to get today's matches\n",
      "UnexpectedAlertPresentException\n",
      "https://www.soccer24.com/iceland/besta-deild-karla/\n",
      "4 matches\n"
     ]
    },
    {
     "data": {
      "application/vnd.jupyter.widget-view+json": {
       "model_id": "c7500eea3ec441038c6212c3ef27fc1c",
       "version_major": 2,
       "version_minor": 0
      },
      "text/plain": [
       "  0%|          | 0/4 [00:00<?, ?it/s]"
      ]
     },
     "metadata": {},
     "output_type": "display_data"
    },
    {
     "name": "stdout",
     "output_type": "stream",
     "text": [
      "attempting to get today's matches\n",
      "attempting to get today's matches\n",
      "UnexpectedAlertPresentException\n",
      "attempting to get today's matches\n",
      "UnexpectedAlertPresentException\n",
      "attempting to get today's matches\n",
      "UnexpectedAlertPresentException\n",
      "https://www.soccer24.com/iceland/inkasso-deildin/\n",
      "5 matches\n"
     ]
    },
    {
     "data": {
      "application/vnd.jupyter.widget-view+json": {
       "model_id": "ab781b5bef434e5cae2ee2a58ac0b154",
       "version_major": 2,
       "version_minor": 0
      },
      "text/plain": [
       "  0%|          | 0/5 [00:00<?, ?it/s]"
      ]
     },
     "metadata": {},
     "output_type": "display_data"
    },
    {
     "name": "stdout",
     "output_type": "stream",
     "text": [
      "attempting to get today's matches\n",
      "attempting to get today's matches\n",
      "UnexpectedAlertPresentException\n",
      "attempting to get today's matches\n",
      "UnexpectedAlertPresentException\n",
      "attempting to get today's matches\n",
      "UnexpectedAlertPresentException\n",
      "attempting to get today's matches\n",
      "UnexpectedAlertPresentException\n",
      "https://www.soccer24.com/iceland/division-2/\n",
      "1 matches\n"
     ]
    },
    {
     "data": {
      "application/vnd.jupyter.widget-view+json": {
       "model_id": "ff39524d95064fb684a3645eadf25798",
       "version_major": 2,
       "version_minor": 0
      },
      "text/plain": [
       "  0%|          | 0/1 [00:00<?, ?it/s]"
      ]
     },
     "metadata": {},
     "output_type": "display_data"
    },
    {
     "name": "stdout",
     "output_type": "stream",
     "text": [
      "attempting to get today's matches\n",
      "https://www.soccer24.com/indonesia/president-cup/\n",
      "2 matches\n"
     ]
    },
    {
     "data": {
      "application/vnd.jupyter.widget-view+json": {
       "model_id": "8484aa618695449e8560d8715dadbfb0",
       "version_major": 2,
       "version_minor": 0
      },
      "text/plain": [
       "  0%|          | 0/2 [00:00<?, ?it/s]"
      ]
     },
     "metadata": {},
     "output_type": "display_data"
    },
    {
     "name": "stdout",
     "output_type": "stream",
     "text": [
      "attempting to get today's matches\n",
      "attempting to get today's matches\n",
      "UnexpectedAlertPresentException\n",
      "https://www.soccer24.com/ivory-coast/ligue-1/\n",
      "1 matches\n"
     ]
    },
    {
     "data": {
      "application/vnd.jupyter.widget-view+json": {
       "model_id": "ff3aef8abece462c8c04cb2f27cfd8ee",
       "version_major": 2,
       "version_minor": 0
      },
      "text/plain": [
       "  0%|          | 0/1 [00:00<?, ?it/s]"
      ]
     },
     "metadata": {},
     "output_type": "display_data"
    },
    {
     "name": "stdout",
     "output_type": "stream",
     "text": [
      "attempting to get today's matches\n",
      "https://www.soccer24.com/mongolia/premier-league/\n",
      "3 matches\n"
     ]
    },
    {
     "data": {
      "application/vnd.jupyter.widget-view+json": {
       "model_id": "a8508351be8d49e6959e3a5a83eaea1c",
       "version_major": 2,
       "version_minor": 0
      },
      "text/plain": [
       "  0%|          | 0/3 [00:00<?, ?it/s]"
      ]
     },
     "metadata": {},
     "output_type": "display_data"
    },
    {
     "name": "stdout",
     "output_type": "stream",
     "text": [
      "attempting to get today's matches\n",
      "attempting to get today's matches\n",
      "UnexpectedAlertPresentException\n",
      "attempting to get today's matches\n",
      "UnexpectedAlertPresentException\n",
      "https://www.soccer24.com/morocco/botola-pro/\n",
      "3 matches\n"
     ]
    },
    {
     "data": {
      "application/vnd.jupyter.widget-view+json": {
       "model_id": "3de15b7e72f942c99d70fb03d106df5b",
       "version_major": 2,
       "version_minor": 0
      },
      "text/plain": [
       "  0%|          | 0/3 [00:00<?, ?it/s]"
      ]
     },
     "metadata": {},
     "output_type": "display_data"
    },
    {
     "name": "stdout",
     "output_type": "stream",
     "text": [
      "attempting to get today's matches\n",
      "attempting to get today's matches\n",
      "UnexpectedAlertPresentException\n",
      "attempting to get today's matches\n",
      "UnexpectedAlertPresentException\n",
      "https://www.soccer24.com/netherlands/derde-divisie/\n",
      "2 matches\n"
     ]
    },
    {
     "data": {
      "application/vnd.jupyter.widget-view+json": {
       "model_id": "3cff6d027e864ae9a7e077738cd72731",
       "version_major": 2,
       "version_minor": 0
      },
      "text/plain": [
       "  0%|          | 0/2 [00:00<?, ?it/s]"
      ]
     },
     "metadata": {},
     "output_type": "display_data"
    },
    {
     "name": "stdout",
     "output_type": "stream",
     "text": [
      "attempting to get today's matches\n",
      "attempting to get today's matches\n",
      "UnexpectedAlertPresentException\n",
      "https://www.soccer24.com/norway/division-3-group-3/\n",
      "1 matches\n"
     ]
    },
    {
     "data": {
      "application/vnd.jupyter.widget-view+json": {
       "model_id": "1b990108625d4aff97a4632ceabba7b9",
       "version_major": 2,
       "version_minor": 0
      },
      "text/plain": [
       "  0%|          | 0/1 [00:00<?, ?it/s]"
      ]
     },
     "metadata": {},
     "output_type": "display_data"
    },
    {
     "name": "stdout",
     "output_type": "stream",
     "text": [
      "attempting to get today's matches\n",
      "https://www.soccer24.com/rwanda/premier-league/\n",
      "4 matches\n"
     ]
    },
    {
     "data": {
      "application/vnd.jupyter.widget-view+json": {
       "model_id": "ca35f3e75a8f44d9b8f7acedbec5ac95",
       "version_major": 2,
       "version_minor": 0
      },
      "text/plain": [
       "  0%|          | 0/4 [00:00<?, ?it/s]"
      ]
     },
     "metadata": {},
     "output_type": "display_data"
    },
    {
     "name": "stdout",
     "output_type": "stream",
     "text": [
      "attempting to get today's matches\n",
      "attempting to get today's matches\n",
      "UnexpectedAlertPresentException\n",
      "attempting to get today's matches\n",
      "UnexpectedAlertPresentException\n",
      "attempting to get today's matches\n",
      "UnexpectedAlertPresentException\n",
      "https://www.soccer24.com/south-korea/wk-league-women/\n",
      "4 matches\n"
     ]
    },
    {
     "data": {
      "application/vnd.jupyter.widget-view+json": {
       "model_id": "018f49621484418b9dae7eddd2fc8fe1",
       "version_major": 2,
       "version_minor": 0
      },
      "text/plain": [
       "  0%|          | 0/4 [00:00<?, ?it/s]"
      ]
     },
     "metadata": {},
     "output_type": "display_data"
    },
    {
     "name": "stdout",
     "output_type": "stream",
     "text": [
      "attempting to get today's matches\n",
      "attempting to get today's matches\n",
      "UnexpectedAlertPresentException\n",
      "attempting to get today's matches\n",
      "UnexpectedAlertPresentException\n",
      "attempting to get today's matches\n",
      "UnexpectedAlertPresentException\n",
      "https://www.soccer24.com/sweden/division-1-norra/\n",
      "1 matches\n"
     ]
    },
    {
     "data": {
      "application/vnd.jupyter.widget-view+json": {
       "model_id": "273909db8329432fb3bc08835afc3330",
       "version_major": 2,
       "version_minor": 0
      },
      "text/plain": [
       "  0%|          | 0/1 [00:00<?, ?it/s]"
      ]
     },
     "metadata": {},
     "output_type": "display_data"
    },
    {
     "name": "stdout",
     "output_type": "stream",
     "text": [
      "attempting to get today's matches\n",
      "https://www.soccer24.com/usa/mls/\n",
      "1 matches\n"
     ]
    },
    {
     "data": {
      "application/vnd.jupyter.widget-view+json": {
       "model_id": "76abcce87a56451c96abce7c3bb5cdbc",
       "version_major": 2,
       "version_minor": 0
      },
      "text/plain": [
       "  0%|          | 0/1 [00:00<?, ?it/s]"
      ]
     },
     "metadata": {},
     "output_type": "display_data"
    },
    {
     "name": "stdout",
     "output_type": "stream",
     "text": [
      "attempting to get today's matches\n",
      "https://www.soccer24.com/usa/usl-championship/\n",
      "4 matches\n"
     ]
    },
    {
     "data": {
      "application/vnd.jupyter.widget-view+json": {
       "model_id": "047914340d2e4e1c935eae3e30e72b76",
       "version_major": 2,
       "version_minor": 0
      },
      "text/plain": [
       "  0%|          | 0/4 [00:00<?, ?it/s]"
      ]
     },
     "metadata": {},
     "output_type": "display_data"
    },
    {
     "name": "stdout",
     "output_type": "stream",
     "text": [
      "attempting to get today's matches\n",
      "attempting to get today's matches\n",
      "UnexpectedAlertPresentException\n",
      "attempting to get today's matches\n",
      "UnexpectedAlertPresentException\n",
      "attempting to get today's matches\n",
      "UnexpectedAlertPresentException\n",
      "https://www.soccer24.com/usa/usl-league-two/\n",
      "17 matches\n"
     ]
    },
    {
     "data": {
      "application/vnd.jupyter.widget-view+json": {
       "model_id": "61355c117bf04a4abe559f1a1bfa49c5",
       "version_major": 2,
       "version_minor": 0
      },
      "text/plain": [
       "  0%|          | 0/17 [00:00<?, ?it/s]"
      ]
     },
     "metadata": {},
     "output_type": "display_data"
    },
    {
     "name": "stdout",
     "output_type": "stream",
     "text": [
      "attempting to get today's matches\n",
      "attempting to get today's matches\n",
      "UnexpectedAlertPresentException\n",
      "attempting to get today's matches\n",
      "UnexpectedAlertPresentException\n",
      "attempting to get today's matches\n",
      "UnexpectedAlertPresentException\n",
      "attempting to get today's matches\n",
      "UnexpectedAlertPresentException\n",
      "attempting to get today's matches\n",
      "UnexpectedAlertPresentException\n",
      "attempting to get today's matches\n",
      "UnexpectedAlertPresentException\n",
      "attempting to get today's matches\n",
      "UnexpectedAlertPresentException\n",
      "attempting to get today's matches\n",
      "UnexpectedAlertPresentException\n",
      "attempting to get today's matches\n",
      "UnexpectedAlertPresentException\n",
      "attempting to get today's matches\n",
      "UnexpectedAlertPresentException\n",
      "attempting to get today's matches\n",
      "UnexpectedAlertPresentException\n",
      "attempting to get today's matches\n",
      "UnexpectedAlertPresentException\n",
      "attempting to get today's matches\n",
      "UnexpectedAlertPresentException\n",
      "attempting to get today's matches\n",
      "UnexpectedAlertPresentException\n",
      "attempting to get today's matches\n",
      "UnexpectedAlertPresentException\n",
      "attempting to get today's matches\n",
      "UnexpectedAlertPresentException\n",
      "https://www.soccer24.com/usa/nisa/\n",
      "2 matches\n"
     ]
    },
    {
     "data": {
      "application/vnd.jupyter.widget-view+json": {
       "model_id": "628016b9012a40a6a65e4dd8bb5955d2",
       "version_major": 2,
       "version_minor": 0
      },
      "text/plain": [
       "  0%|          | 0/2 [00:00<?, ?it/s]"
      ]
     },
     "metadata": {},
     "output_type": "display_data"
    },
    {
     "name": "stdout",
     "output_type": "stream",
     "text": [
      "attempting to get today's matches\n",
      "attempting to get today's matches\n",
      "UnexpectedAlertPresentException\n",
      "https://www.soccer24.com/venezuela/primera-division/\n",
      "1 matches\n"
     ]
    },
    {
     "data": {
      "application/vnd.jupyter.widget-view+json": {
       "model_id": "2d0fa2f8edff4691a261a8ea2d315b06",
       "version_major": 2,
       "version_minor": 0
      },
      "text/plain": [
       "  0%|          | 0/1 [00:00<?, ?it/s]"
      ]
     },
     "metadata": {},
     "output_type": "display_data"
    },
    {
     "name": "stdout",
     "output_type": "stream",
     "text": [
      "attempting to get today's matches\n",
      "https://www.soccer24.com/world/club-friendly/\n",
      "4 matches\n"
     ]
    },
    {
     "data": {
      "application/vnd.jupyter.widget-view+json": {
       "model_id": "43637e9b171244b6aaf22f0425bdcc8b",
       "version_major": 2,
       "version_minor": 0
      },
      "text/plain": [
       "  0%|          | 0/4 [00:00<?, ?it/s]"
      ]
     },
     "metadata": {},
     "output_type": "display_data"
    },
    {
     "name": "stdout",
     "output_type": "stream",
     "text": [
      "attempting to get today's matches\n",
      "attempting to get today's matches\n",
      "UnexpectedAlertPresentException\n",
      "attempting to get today's matches\n",
      "UnexpectedAlertPresentException\n",
      "attempting to get today's matches\n",
      "UnexpectedAlertPresentException\n",
      "https://www.soccer24.com/world/friendly-international-women/\n",
      "1 matches\n"
     ]
    },
    {
     "data": {
      "application/vnd.jupyter.widget-view+json": {
       "model_id": "e40efab008614ca1bff7f3875a456349",
       "version_major": 2,
       "version_minor": 0
      },
      "text/plain": [
       "  0%|          | 0/1 [00:00<?, ?it/s]"
      ]
     },
     "metadata": {},
     "output_type": "display_data"
    },
    {
     "name": "stdout",
     "output_type": "stream",
     "text": [
      "attempting to get today's matches\n"
     ]
    }
   ],
   "source": [
    "base_url = \"https://www.soccer24.com/\"\n",
    "options = webdriver.ChromeOptions()\n",
    "options.add_argument('--start-maximized')\n",
    "options.add_argument('--headless')\n",
    "caps = DesiredCapabilities.CHROME\n",
    "caps['goog:loggingPrefs'] = {'performance': 'ALL'}\n",
    "driver = uc.Chrome(options=options, desired_capabilities=caps)\n",
    "\n",
    "driver.get(base_url)\n",
    "\n",
    "time.sleep(5)\n",
    "output_results = {}\n",
    "league_elements = driver.find_elements(By.CSS_SELECTOR, 'div[class=\"event__header top\"]') + driver.find_elements(By.CSS_SELECTOR, 'div[class=\"event__header\"]')\n",
    "i = 0\n",
    "pbar = tqdm(total=len(league_elements))\n",
    "while i<len(league_elements):\n",
    "    # try:\n",
    "    time.sleep(5)\n",
    "    new_league_elements = driver.find_elements(By.CSS_SELECTOR, 'div[class=\"event__header top\"]') + driver.find_elements(By.CSS_SELECTOR, 'div[class=\"event__header\"]') \n",
    "    element = new_league_elements[i]\n",
    "    try:\n",
    "        element.find_element(By.CSS_SELECTOR, 'span[class=\"event__title--name\"]').click()\n",
    "    except ElementClickInterceptedException:\n",
    "        driver.find_element(By.CSS_SELECTOR, 'button[id=\"onetrust-reject-all-handler\"]').click()\n",
    "        element.find_element(By.CSS_SELECTOR, 'span[class=\"event__title--name\"]').click()\n",
    "\n",
    "    # today's matches\n",
    "    try:\n",
    "        todays_matches = driver.find_element(By.CSS_SELECTOR, 'section[class=\"event event--live event--summary\"]').find_element(By.CSS_SELECTOR, 'div[class=\"sportName soccer\"]').find_elements(By.CSS_SELECTOR, 'div[title=\"Click for match detail!\"]')\n",
    "    except NoSuchElementException:\n",
    "        time.sleep(5)\n",
    "        todays_matches = driver.find_element(By.CSS_SELECTOR, 'section[class=\"event event--live event--summary\"]').find_element(By.CSS_SELECTOR, 'div[class=\"sportName soccer\"]').find_elements(By.CSS_SELECTOR, 'div[title=\"Click for match detail!\"]')\n",
    "    url = driver.current_url\n",
    "    current_league_matches = [BeautifulSoup(match.get_attribute(\"innerHTML\"), \"html.parser\") for match in todays_matches]\n",
    "    parsed_fixtures = [\n",
    "        {\n",
    "            \"url\": url,\n",
    "            \"type\": \"current_day_fixture\",\n",
    "            \"timestamp\": x.find(\"div\", attrs={\"class\": \"event__time\"}).text.strip() if x.find(\"div\", attrs={\"class\": \"event__time\"}) is not None else x.find(\"div\", attrs={\"class\": \"event__stage\"}).text.strip(),\n",
    "            \"home\": x.find(\"div\", attrs={\"class\": \"event__participant--home\"}).text.strip(),\n",
    "            \"away\": x.find(\"div\", attrs={\"class\": \"event__participant--away\"}).text.strip(),\n",
    "            \"home_score\": x.find(\"div\", attrs={\"class\": \"event__score--home\"}).text.strip() if x.find(\"div\", attrs={\"class\": \"event__score--home\"}) is not None else np.nan,\n",
    "            \"away_score\": x.find(\"div\", attrs={\"class\": \"event__score--away\"}).text.strip() if x.find(\"div\", attrs={\"class\": \"event__score--away\"}) is not None else np.nan,\n",
    "            \"scrape_timestmap\": datetime.now()\n",
    "        } for x in current_league_matches\n",
    "    ]\n",
    "\n",
    "    todays_matches_html = [x.get_attribute(\"innerHTML\") for x in todays_matches]\n",
    "    \n",
    "    current_match_teams_urls, driver = get_current_match_teams(driver, todays_matches, url)\n",
    "\n",
    "    current_team_history_list = []\n",
    "    for team_url_div in current_match_teams_urls:\n",
    "        team_url_to_scrape = BeautifulSoup(team_url_div, \"html.parser\").find(\"a\")[\"href\"]\n",
    "        team_history, driver = get_team_history(driver, \"https://www.soccer24.com\" + team_url_to_scrape + \"/results/\")\n",
    "        current_team_history_list.extend(team_history)\n",
    "\n",
    "    # results\n",
    "    driver.get(url)\n",
    "    driver.find_element(By.CSS_SELECTOR, 'a[class=\"tabs__tab results\"]').click()\n",
    "    time.sleep(5)\n",
    "    results = driver.find_element(By.CSS_SELECTOR, 'div[class=\"sportName soccer\"]').find_elements(By.CSS_SELECTOR, 'div[title=\"Click for match detail!\"]')\n",
    "    url = driver.current_url\n",
    "    league_results = [BeautifulSoup(result.get_attribute(\"innerHTML\"), \"html.parser\") for result in results]\n",
    "    parsed_results = [\n",
    "        {\n",
    "            \"url\": url,\n",
    "            \"type\": \"league_previous_result\",\n",
    "            \"timestamp\": x.find(\"div\", attrs={\"class\": \"event__time\"}).text.strip() if x.find(\"div\", attrs={\"class\": \"event__time\"}) is not None else x.find(\"div\", attrs={\"class\": \"event__stage\"}).text.strip(),\n",
    "            \"home\": x.find(\"div\", attrs={\"class\": \"event__participant--home\"}).text.strip(),\n",
    "            \"away\": x.find(\"div\", attrs={\"class\": \"event__participant--away\"}).text.strip(),\n",
    "            \"home_score\": x.find(\"div\", attrs={\"class\": \"event__score--home\"}).text.strip(),\n",
    "            \"away_score\": x.find(\"div\", attrs={\"class\": \"event__score--away\"}).text.strip(),\n",
    "            \"scrape_timestmap\": datetime.now()\n",
    "        } for x in league_results\n",
    "    ]\n",
    "    output_results[url] = parsed_fixtures + parsed_results + current_team_history_list\n",
    "    driver.get(base_url)\n",
    "    pbar.update(1)\n",
    "    i+=1\n",
    "    # except IndexError:\n",
    "    #     print(f\"Index Error, retrying...{i}\")\n",
    "    #     continue"
   ]
  },
  {
   "cell_type": "code",
   "execution_count": 23,
   "id": "a94396ab-3cc7-4642-a12a-af4fc6ef9c31",
   "metadata": {},
   "outputs": [],
   "source": [
    "output_df = pd.concat(\n",
    "    [pd.DataFrame(v) for k, v in output_results.items()]\n",
    ").reset_index(drop=True)"
   ]
  },
  {
   "cell_type": "code",
   "execution_count": 25,
   "id": "909541af-7137-49de-9080-eb65b74ee0cd",
   "metadata": {},
   "outputs": [],
   "source": [
    "output_df.to_csv('soccer24_scraping.csv', index=False)"
   ]
  },
  {
   "cell_type": "code",
   "execution_count": 26,
   "id": "2aad85c0-542b-426a-9c01-1ee5c06ddcd9",
   "metadata": {},
   "outputs": [
    {
     "data": {
      "text/html": [
       "<div>\n",
       "<style scoped>\n",
       "    .dataframe tbody tr th:only-of-type {\n",
       "        vertical-align: middle;\n",
       "    }\n",
       "\n",
       "    .dataframe tbody tr th {\n",
       "        vertical-align: top;\n",
       "    }\n",
       "\n",
       "    .dataframe thead th {\n",
       "        text-align: right;\n",
       "    }\n",
       "</style>\n",
       "<table border=\"1\" class=\"dataframe\">\n",
       "  <thead>\n",
       "    <tr style=\"text-align: right;\">\n",
       "      <th></th>\n",
       "      <th>url</th>\n",
       "      <th>type</th>\n",
       "      <th>timestamp</th>\n",
       "      <th>home</th>\n",
       "      <th>away</th>\n",
       "      <th>home_score</th>\n",
       "      <th>away_score</th>\n",
       "      <th>scrape_timestmap</th>\n",
       "    </tr>\n",
       "  </thead>\n",
       "  <tbody>\n",
       "    <tr>\n",
       "      <th>0</th>\n",
       "      <td>https://www.soccer24.com/argentina/liga-profes...</td>\n",
       "      <td>current_day_fixture</td>\n",
       "      <td>Finished</td>\n",
       "      <td>Boca Juniors</td>\n",
       "      <td>Tigre</td>\n",
       "      <td>5</td>\n",
       "      <td>3</td>\n",
       "      <td>2022-06-16 19:24:42.506135</td>\n",
       "    </tr>\n",
       "    <tr>\n",
       "      <th>1</th>\n",
       "      <td>https://www.soccer24.com/argentina/liga-profes...</td>\n",
       "      <td>current_day_fixture</td>\n",
       "      <td>23:00</td>\n",
       "      <td>Argentinos Jrs</td>\n",
       "      <td>Independiente</td>\n",
       "      <td>-</td>\n",
       "      <td>-</td>\n",
       "      <td>2022-06-16 19:24:42.506135</td>\n",
       "    </tr>\n",
       "    <tr>\n",
       "      <th>2</th>\n",
       "      <td>https://www.soccer24.com/argentina/liga-profes...</td>\n",
       "      <td>current_day_fixture</td>\n",
       "      <td>23:00</td>\n",
       "      <td>Rosario Central</td>\n",
       "      <td>Godoy Cruz</td>\n",
       "      <td>-</td>\n",
       "      <td>-</td>\n",
       "      <td>2022-06-16 19:24:42.506135</td>\n",
       "    </tr>\n",
       "    <tr>\n",
       "      <th>3</th>\n",
       "      <td>https://www.soccer24.com/argentina/liga-profes...</td>\n",
       "      <td>league_previous_result</td>\n",
       "      <td>16.06. 01:30</td>\n",
       "      <td>Boca Juniors</td>\n",
       "      <td>Tigre</td>\n",
       "      <td>5</td>\n",
       "      <td>3</td>\n",
       "      <td>2022-06-16 19:25:28.142069</td>\n",
       "    </tr>\n",
       "    <tr>\n",
       "      <th>4</th>\n",
       "      <td>https://www.soccer24.com/argentina/liga-profes...</td>\n",
       "      <td>league_previous_result</td>\n",
       "      <td>15.06. 23:00</td>\n",
       "      <td>Colon Santa FE</td>\n",
       "      <td>River Plate</td>\n",
       "      <td>1</td>\n",
       "      <td>0</td>\n",
       "      <td>2022-06-16 19:25:28.143131</td>\n",
       "    </tr>\n",
       "    <tr>\n",
       "      <th>...</th>\n",
       "      <td>...</td>\n",
       "      <td>...</td>\n",
       "      <td>...</td>\n",
       "      <td>...</td>\n",
       "      <td>...</td>\n",
       "      <td>...</td>\n",
       "      <td>...</td>\n",
       "      <td>...</td>\n",
       "    </tr>\n",
       "    <tr>\n",
       "      <th>10084</th>\n",
       "      <td>https://www.soccer24.com/team/belgium/SvSUBuuf...</td>\n",
       "      <td>team_previous_result</td>\n",
       "      <td>05.10.2018</td>\n",
       "      <td>Belgium W</td>\n",
       "      <td>Switzerland W</td>\n",
       "      <td>2</td>\n",
       "      <td>2</td>\n",
       "      <td>2022-06-16 19:51:16.012204</td>\n",
       "    </tr>\n",
       "    <tr>\n",
       "      <th>10085</th>\n",
       "      <td>https://www.soccer24.com/team/belgium/SvSUBuuf...</td>\n",
       "      <td>team_previous_result</td>\n",
       "      <td>04.09.2018</td>\n",
       "      <td>Belgium W</td>\n",
       "      <td>Italy W</td>\n",
       "      <td>2</td>\n",
       "      <td>1</td>\n",
       "      <td>2022-06-16 19:51:16.013205</td>\n",
       "    </tr>\n",
       "    <tr>\n",
       "      <th>10086</th>\n",
       "      <td>https://www.soccer24.com/team/belgium/SvSUBuuf...</td>\n",
       "      <td>team_previous_result</td>\n",
       "      <td>31.08.2018</td>\n",
       "      <td>Romania W</td>\n",
       "      <td>Belgium W</td>\n",
       "      <td>0</td>\n",
       "      <td>1</td>\n",
       "      <td>2022-06-16 19:51:16.013205</td>\n",
       "    </tr>\n",
       "    <tr>\n",
       "      <th>10087</th>\n",
       "      <td>https://www.soccer24.com/team/belgium/SvSUBuuf...</td>\n",
       "      <td>team_previous_result</td>\n",
       "      <td>10.06.2018</td>\n",
       "      <td>Moldova W</td>\n",
       "      <td>Belgium W</td>\n",
       "      <td>0</td>\n",
       "      <td>7</td>\n",
       "      <td>2022-06-16 19:51:16.013205</td>\n",
       "    </tr>\n",
       "    <tr>\n",
       "      <th>10088</th>\n",
       "      <td>https://www.soccer24.com/team/belgium/SvSUBuuf...</td>\n",
       "      <td>team_previous_result</td>\n",
       "      <td>10.04.2018</td>\n",
       "      <td>Italy W</td>\n",
       "      <td>Belgium W</td>\n",
       "      <td>2</td>\n",
       "      <td>1</td>\n",
       "      <td>2022-06-16 19:51:16.013205</td>\n",
       "    </tr>\n",
       "  </tbody>\n",
       "</table>\n",
       "<p>10089 rows × 8 columns</p>\n",
       "</div>"
      ],
      "text/plain": [
       "                                                     url  \\\n",
       "0      https://www.soccer24.com/argentina/liga-profes...   \n",
       "1      https://www.soccer24.com/argentina/liga-profes...   \n",
       "2      https://www.soccer24.com/argentina/liga-profes...   \n",
       "3      https://www.soccer24.com/argentina/liga-profes...   \n",
       "4      https://www.soccer24.com/argentina/liga-profes...   \n",
       "...                                                  ...   \n",
       "10084  https://www.soccer24.com/team/belgium/SvSUBuuf...   \n",
       "10085  https://www.soccer24.com/team/belgium/SvSUBuuf...   \n",
       "10086  https://www.soccer24.com/team/belgium/SvSUBuuf...   \n",
       "10087  https://www.soccer24.com/team/belgium/SvSUBuuf...   \n",
       "10088  https://www.soccer24.com/team/belgium/SvSUBuuf...   \n",
       "\n",
       "                         type     timestamp             home           away  \\\n",
       "0         current_day_fixture      Finished     Boca Juniors          Tigre   \n",
       "1         current_day_fixture         23:00   Argentinos Jrs  Independiente   \n",
       "2         current_day_fixture         23:00  Rosario Central     Godoy Cruz   \n",
       "3      league_previous_result  16.06. 01:30     Boca Juniors          Tigre   \n",
       "4      league_previous_result  15.06. 23:00   Colon Santa FE    River Plate   \n",
       "...                       ...           ...              ...            ...   \n",
       "10084    team_previous_result    05.10.2018        Belgium W  Switzerland W   \n",
       "10085    team_previous_result    04.09.2018        Belgium W        Italy W   \n",
       "10086    team_previous_result    31.08.2018        Romania W      Belgium W   \n",
       "10087    team_previous_result    10.06.2018        Moldova W      Belgium W   \n",
       "10088    team_previous_result    10.04.2018          Italy W      Belgium W   \n",
       "\n",
       "      home_score away_score           scrape_timestmap  \n",
       "0              5          3 2022-06-16 19:24:42.506135  \n",
       "1              -          - 2022-06-16 19:24:42.506135  \n",
       "2              -          - 2022-06-16 19:24:42.506135  \n",
       "3              5          3 2022-06-16 19:25:28.142069  \n",
       "4              1          0 2022-06-16 19:25:28.143131  \n",
       "...          ...        ...                        ...  \n",
       "10084          2          2 2022-06-16 19:51:16.012204  \n",
       "10085          2          1 2022-06-16 19:51:16.013205  \n",
       "10086          0          1 2022-06-16 19:51:16.013205  \n",
       "10087          0          7 2022-06-16 19:51:16.013205  \n",
       "10088          2          1 2022-06-16 19:51:16.013205  \n",
       "\n",
       "[10089 rows x 8 columns]"
      ]
     },
     "execution_count": 26,
     "metadata": {},
     "output_type": "execute_result"
    }
   ],
   "source": [
    "output_df"
   ]
  },
  {
   "cell_type": "code",
   "execution_count": null,
   "id": "c3d9a4bf-b402-432a-87d2-a2c4c7110f92",
   "metadata": {},
   "outputs": [],
   "source": []
  }
 ],
 "metadata": {
  "kernelspec": {
   "display_name": "Python 3 (ipykernel)",
   "language": "python",
   "name": "python3"
  },
  "language_info": {
   "codemirror_mode": {
    "name": "ipython",
    "version": 3
   },
   "file_extension": ".py",
   "mimetype": "text/x-python",
   "name": "python",
   "nbconvert_exporter": "python",
   "pygments_lexer": "ipython3",
   "version": "3.9.7"
  }
 },
 "nbformat": 4,
 "nbformat_minor": 5
}
